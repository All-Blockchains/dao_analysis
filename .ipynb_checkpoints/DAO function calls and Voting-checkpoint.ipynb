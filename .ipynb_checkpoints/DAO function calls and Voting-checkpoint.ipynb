{
 "cells": [
  {
   "cell_type": "code",
   "execution_count": 8,
   "metadata": {
    "collapsed": false
   },
   "outputs": [],
   "source": [
    "from etherscan.accounts import Account\n",
    "from api_key import key\n",
    "import pandas as pd"
   ]
  },
  {
   "cell_type": "code",
   "execution_count": 21,
   "metadata": {
    "collapsed": false
   },
   "outputs": [],
   "source": [
    "api = Account()"
   ]
  },
  {
   "cell_type": "code",
   "execution_count": 3,
   "metadata": {
    "collapsed": false
   },
   "outputs": [
    {
     "name": "stdout",
     "output_type": "stream",
     "text": [
      "page 1 added\n",
      "page 2 added\n",
      "page 3 added\n",
      "page 4 added\n",
      "page 5 added\n",
      "page 6 added\n",
      "page 7 added\n",
      "page 8 added\n",
      "page 9 added\n",
      "page 10 added\n",
      "page 11 added\n",
      "Total number of transactions: 103457\n"
     ]
    }
   ],
   "source": [
    "transactions = api.get_all_transactions()"
   ]
  },
  {
   "cell_type": "code",
   "execution_count": 36,
   "metadata": {
    "collapsed": false
   },
   "outputs": [],
   "source": [
    "# Write to file to keep it up to date\n",
    "with open('dao_transactions.json', mode='w') as f:\n",
    "    f.write(transactions)"
   ]
  },
  {
   "cell_type": "code",
   "execution_count": 39,
   "metadata": {
    "collapsed": false
   },
   "outputs": [
    {
     "data": {
      "text/plain": [
       "'0x23b872dd000000000000000000000000d11d5ca78d983aac47d5d61c825ddfdb48572bfd000000000000000000000000df21fa922215b1a56f5a6d6294e6e36c85a0acfb0000000000000000000000000000000000000000000000004563918244f40000'"
      ]
     },
     "execution_count": 39,
     "metadata": {},
     "output_type": "execute_result"
    }
   ],
   "source": [
    "transactions = pd.DataFrame(transactions)\n",
    "transactions['input'].loc[103456]"
   ]
  },
  {
   "cell_type": "code",
   "execution_count": 18,
   "metadata": {
    "collapsed": true
   },
   "outputs": [],
   "source": [
    "from etherscan.tokens import Tokens"
   ]
  },
  {
   "cell_type": "code",
   "execution_count": 22,
   "metadata": {
    "collapsed": false
   },
   "outputs": [],
   "source": [
    "api = Tokens('TheDAO')"
   ]
  },
  {
   "cell_type": "markdown",
   "metadata": {},
   "source": [
    "Curator Information: "
   ]
  },
  {
   "cell_type": "code",
   "execution_count": 33,
   "metadata": {
    "collapsed": true
   },
   "outputs": [],
   "source": [
    "curator_contract_address = '0xda4a4626d3e16e094de3225a751aab7128e96526'\n",
    "\n",
    "curators = {\n",
    "'Vitalik Buterin':'1db3439a222c519ab44bb1144fc28167b4fa6ee6',\n",
    "'Aeron Buchanan':'b2c1b92f4bed7a173547cc601fb73a1254d10d26',\n",
    "'Christian Reitwießner':'0029218e1dab069656bfb8a75947825e7989b987',\n",
    "'Taylor Gerring':'cee96fd34ec793b05ee5b232b0110eac0cc3327e',\n",
    "'Viktor Tron':'b274363d5971b60b6aca27d6f030355e9aa2cf23',\n",
    "'Fabian Vogelsteller':'c947faed052820f1ad6f4dda435e684a2cd06bb4',\n",
    "'Martin Becze':'ae90d602778ed98478888fa2756339dd013e34c1',\n",
    "'Gustav Simonsson':'e578fb92640393b95b53197914bd560b7bc2aac8',\n",
    "'Vlad Zamfir':'127ac03acfad15f7a49dd037e52d5507260e1425',\n",
    "'Gavin Wood':'0037a6b811ffeb6e072da21179d11b1406371c63',\n",
    "'Alex Van de Sande':'d1220a0cf47c7b9be7a2e6ba89f429762e7b9adb',\n",
    "'Iuri Matias':'C157f767030B4cDd1f4100e5Eb2b469b688D293E',\n",
    "'Shermin Voshmgir':'820c6da74978799d574f61b01f8b5eebc051f95e',\n",
    "'Gavin Wood':'0037a6b811ffeb6e072da21179d11b1406371c63',\n",
    "}"
   ]
  },
  {
   "cell_type": "code",
   "execution_count": 40,
   "metadata": {
    "collapsed": false
   },
   "outputs": [
    {
     "data": {
      "text/plain": [
       "{'DAOpaidOut': '643f7cdd',\n",
       " 'DAOrewardAccount': '82bf6464',\n",
       " 'actualBalance': '39d1f908',\n",
       " 'allowance': 'dd62ed3e',\n",
       " 'allowedRecipients': '4df6d6cc',\n",
       " 'approve': '095ea7b3',\n",
       " 'balanceOf': '70a08231',\n",
       " 'blocked': 'e5962195',\n",
       " 'changeAllowedRecipients': '749f9889',\n",
       " 'changeProposalDeposit': 'e33734fd',\n",
       " 'checkProposalCode': 'eceb2945',\n",
       " 'closingTime': '4b6753bc',\n",
       " 'createTokenProxy': 'baac5300',\n",
       " 'curator': 'e66f53b7',\n",
       " 'daoCreator': '149acf9a',\n",
       " 'divisor': '1f2dc5ef',\n",
       " 'executeProposal': '237e9492',\n",
       " 'extraBalance': '21b5b8dd',\n",
       " 'getMyReward': 'cc9ae3f6',\n",
       " 'getNewDAOAddress': 'be7c29c1',\n",
       " 'halveMinQuorum': '78524b2e',\n",
       " 'isFueled': 'b7bc2c84',\n",
       " 'lastTimeMinQuorumMet': '96d7f3f5',\n",
       " 'minQuorumDivisor': '674ed066',\n",
       " 'minTokensToCreate': '0c3b7b96',\n",
       " 'newContract': '6837ff1e',\n",
       " 'newProposal': '612e45a3',\n",
       " 'numberOfProposals': '8d7af473',\n",
       " 'paidOut': '81f03fcb',\n",
       " 'privateCreation': 'f8c80d26',\n",
       " 'proposalDeposit': '8b15a605',\n",
       " 'proposals': '013cf08b',\n",
       " 'receiveEther': 'a3912ec8',\n",
       " 'refund': '590e1ae3',\n",
       " 'retrieveDAOReward': 'a1da2fb9',\n",
       " 'rewardAccount': '0e708203',\n",
       " 'rewardToken': 'cdef91d0',\n",
       " 'splitDAO': '82661dc4',\n",
       " 'totalRewardToken': '34145808',\n",
       " 'totalSupply': '18160ddd',\n",
       " 'transfer': 'a9059cbb',\n",
       " 'transferFrom': '23b872dd',\n",
       " 'transferFromWithoutReward': 'dbde1988',\n",
       " 'transferWithoutReward': '4e10c3ee',\n",
       " 'unblockMe': '2632bf20',\n",
       " 'vote': 'c9d27afe'}"
      ]
     },
     "execution_count": 40,
     "metadata": {},
     "output_type": "execute_result"
    }
   ],
   "source": [
    "function_codes_str = [\n",
    "'643f7cdd=DAOpaidOut',\n",
    "'82bf6464=DAOrewardAccount',\n",
    "'39d1f908=actualBalance',\n",
    "'dd62ed3e=allowance',\n",
    "'4df6d6cc=allowedRecipients',\n",
    "'095ea7b3=approve',\n",
    "'70a08231=balanceOf',\n",
    "'e5962195=blocked',\n",
    "'749f9889=changeAllowedRecipients',\n",
    "'e33734fd=changeProposalDeposit',\n",
    "'eceb2945=checkProposalCode',\n",
    "'4b6753bc=closingTime',\n",
    "'baac5300=createTokenProxy',\n",
    "'e66f53b7=curator',\n",
    "'149acf9a=daoCreator',\n",
    "'1f2dc5ef=divisor',\n",
    "'237e9492=executeProposal',\n",
    "'21b5b8dd=extraBalance',\n",
    "'cc9ae3f6=getMyReward',\n",
    "'be7c29c1=getNewDAOAddress',\n",
    "'78524b2e=halveMinQuorum',\n",
    "'b7bc2c84=isFueled',\n",
    "'96d7f3f5=lastTimeMinQuorumMet',\n",
    "'674ed066=minQuorumDivisor',\n",
    "'0c3b7b96=minTokensToCreate',\n",
    "'6837ff1e=newContract',\n",
    "'612e45a3=newProposal',\n",
    "'8d7af473=numberOfProposals',\n",
    "'81f03fcb=paidOut',\n",
    "'f8c80d26=privateCreation',\n",
    "'8b15a605=proposalDeposit',\n",
    "'013cf08b=proposals',\n",
    "'a3912ec8=receiveEther',\n",
    "'590e1ae3=refund',\n",
    "'a1da2fb9=retrieveDAOReward',\n",
    "'0e708203=rewardAccount',\n",
    "'cdef91d0=rewardToken',\n",
    "'82661dc4=splitDAO',\n",
    "'34145808=totalRewardToken',\n",
    "'18160ddd=totalSupply',\n",
    "'a9059cbb=transfer',\n",
    "'23b872dd=transferFrom',\n",
    "'dbde1988=transferFromWithoutReward',\n",
    "'4e10c3ee=transferWithoutReward',\n",
    "'2632bf20=unblockMe',\n",
    "'c9d27afe=vote',\n",
    "]\n",
    "\n",
    "dao_fn_codes = dict()\n",
    "for string in function_codes_str:\n",
    "    code, function = string.split('=')\n",
    "    dao_fn_codes[function] = str(code)\n",
    "dao_fn_codes"
   ]
  },
  {
   "cell_type": "code",
   "execution_count": null,
   "metadata": {
    "collapsed": true
   },
   "outputs": [],
   "source": []
  }
 ],
 "metadata": {
  "kernelspec": {
   "display_name": "Python 3",
   "language": "python",
   "name": "python3"
  },
  "language_info": {
   "codemirror_mode": {
    "name": "ipython",
    "version": 3
   },
   "file_extension": ".py",
   "mimetype": "text/x-python",
   "name": "python",
   "nbconvert_exporter": "python",
   "pygments_lexer": "ipython3",
   "version": "3.5.1"
  }
 },
 "nbformat": 4,
 "nbformat_minor": 0
}
